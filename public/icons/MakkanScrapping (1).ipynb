{
 "cells": [
  {
   "cell_type": "code",
   "execution_count": 3,
   "id": "11ea047a",
   "metadata": {
    "scrolled": true
   },
   "outputs": [
    {
     "name": "stdout",
     "output_type": "stream",
     "text": [
      "Requirement already satisfied: selenium in /opt/anaconda3/lib/python3.12/site-packages (4.24.0)\n",
      "Requirement already satisfied: urllib3<3,>=1.26 in /opt/anaconda3/lib/python3.12/site-packages (from urllib3[socks]<3,>=1.26->selenium) (2.2.2)\n",
      "Requirement already satisfied: trio~=0.17 in /opt/anaconda3/lib/python3.12/site-packages (from selenium) (0.26.2)\n",
      "Requirement already satisfied: trio-websocket~=0.9 in /opt/anaconda3/lib/python3.12/site-packages (from selenium) (0.11.1)\n",
      "Requirement already satisfied: certifi>=2021.10.8 in /opt/anaconda3/lib/python3.12/site-packages (from selenium) (2024.8.30)\n",
      "Requirement already satisfied: typing_extensions~=4.9 in /opt/anaconda3/lib/python3.12/site-packages (from selenium) (4.11.0)\n",
      "Requirement already satisfied: websocket-client~=1.8 in /opt/anaconda3/lib/python3.12/site-packages (from selenium) (1.8.0)\n",
      "Requirement already satisfied: attrs>=23.2.0 in /opt/anaconda3/lib/python3.12/site-packages (from trio~=0.17->selenium) (24.2.0)\n",
      "Requirement already satisfied: sortedcontainers in /opt/anaconda3/lib/python3.12/site-packages (from trio~=0.17->selenium) (2.4.0)\n",
      "Requirement already satisfied: idna in /opt/anaconda3/lib/python3.12/site-packages (from trio~=0.17->selenium) (3.7)\n",
      "Requirement already satisfied: outcome in /opt/anaconda3/lib/python3.12/site-packages (from trio~=0.17->selenium) (1.3.0.post0)\n",
      "Requirement already satisfied: sniffio>=1.3.0 in /opt/anaconda3/lib/python3.12/site-packages (from trio~=0.17->selenium) (1.3.0)\n",
      "Requirement already satisfied: wsproto>=0.14 in /opt/anaconda3/lib/python3.12/site-packages (from trio-websocket~=0.9->selenium) (1.2.0)\n",
      "Requirement already satisfied: pysocks!=1.5.7,<2.0,>=1.5.6 in /opt/anaconda3/lib/python3.12/site-packages (from urllib3[socks]<3,>=1.26->selenium) (1.7.1)\n",
      "Requirement already satisfied: h11<1,>=0.9.0 in /opt/anaconda3/lib/python3.12/site-packages (from wsproto>=0.14->trio-websocket~=0.9->selenium) (0.14.0)\n"
     ]
    }
   ],
   "source": [
    "!pip install selenium"
   ]
  },
  {
   "cell_type": "code",
   "execution_count": 4,
   "id": "927798c6",
   "metadata": {},
   "outputs": [],
   "source": [
    "from selenium import webdriver\n",
    "from selenium.webdriver.common.keys import Keys\n",
    "import pandas as pd\n",
    "from selenium.webdriver.support.ui import WebDriverWait\n",
    "from selenium.webdriver.support import expected_conditions as EC\n",
    "import time\n",
    "from selenium.webdriver.common.by import By"
   ]
  },
  {
   "cell_type": "code",
   "execution_count": 5,
   "id": "98513edc",
   "metadata": {},
   "outputs": [
    {
     "ename": "NoSuchDriverException",
     "evalue": "Message: Unable to obtain driver for chrome; For documentation on this error, please visit: https://www.selenium.dev/documentation/webdriver/troubleshooting/errors/driver_location\n",
     "output_type": "error",
     "traceback": [
      "\u001b[0;31m---------------------------------------------------------------------------\u001b[0m",
      "\u001b[0;31mValueError\u001b[0m                                Traceback (most recent call last)",
      "File \u001b[0;32m/opt/anaconda3/lib/python3.12/site-packages/selenium/webdriver/common/driver_finder.py:64\u001b[0m, in \u001b[0;36mDriverFinder._binary_paths\u001b[0;34m(self)\u001b[0m\n\u001b[1;32m     63\u001b[0m \u001b[38;5;28;01mif\u001b[39;00m \u001b[38;5;129;01mnot\u001b[39;00m Path(path)\u001b[38;5;241m.\u001b[39mis_file():\n\u001b[0;32m---> 64\u001b[0m     \u001b[38;5;28;01mraise\u001b[39;00m \u001b[38;5;167;01mValueError\u001b[39;00m(\u001b[38;5;124mf\u001b[39m\u001b[38;5;124m\"\u001b[39m\u001b[38;5;124mThe path is not a valid file: \u001b[39m\u001b[38;5;132;01m{\u001b[39;00mpath\u001b[38;5;132;01m}\u001b[39;00m\u001b[38;5;124m\"\u001b[39m)\n\u001b[1;32m     65\u001b[0m \u001b[38;5;28mself\u001b[39m\u001b[38;5;241m.\u001b[39m_paths[\u001b[38;5;124m\"\u001b[39m\u001b[38;5;124mdriver_path\u001b[39m\u001b[38;5;124m\"\u001b[39m] \u001b[38;5;241m=\u001b[39m path\n",
      "\u001b[0;31mValueError\u001b[0m: The path is not a valid file: ../../Downloads/chromedriver-win64/chromedriver-win64/chromedriver.exe",
      "\nThe above exception was the direct cause of the following exception:\n",
      "\u001b[0;31mNoSuchDriverException\u001b[0m                     Traceback (most recent call last)",
      "Cell \u001b[0;32mIn[5], line 20\u001b[0m\n\u001b[1;32m     18\u001b[0m     link \u001b[38;5;241m=\u001b[39m \u001b[38;5;124m\"\u001b[39m\u001b[38;5;124mhttps://www.makaan.com/all-localities-overview?page=\u001b[39m\u001b[38;5;124m\"\u001b[39m\u001b[38;5;241m+\u001b[39m\u001b[38;5;28mstr\u001b[39m(page_start)\n\u001b[1;32m     19\u001b[0m cService \u001b[38;5;241m=\u001b[39m webdriver\u001b[38;5;241m.\u001b[39mChromeService(executable_path\u001b[38;5;241m=\u001b[39m\u001b[38;5;124m'\u001b[39m\u001b[38;5;124m../../Downloads/chromedriver-win64/chromedriver-win64/chromedriver.exe\u001b[39m\u001b[38;5;124m'\u001b[39m)\n\u001b[0;32m---> 20\u001b[0m driver \u001b[38;5;241m=\u001b[39m webdriver\u001b[38;5;241m.\u001b[39mChrome(service \u001b[38;5;241m=\u001b[39m cService)\n\u001b[1;32m     21\u001b[0m driver\u001b[38;5;241m.\u001b[39mget(link)\n\u001b[1;32m     23\u001b[0m \u001b[38;5;28;01mfor\u001b[39;00m i \u001b[38;5;129;01min\u001b[39;00m \u001b[38;5;28mrange\u001b[39m(\u001b[38;5;241m0\u001b[39m,\u001b[38;5;241m2\u001b[39m):\n",
      "File \u001b[0;32m/opt/anaconda3/lib/python3.12/site-packages/selenium/webdriver/chrome/webdriver.py:45\u001b[0m, in \u001b[0;36mWebDriver.__init__\u001b[0;34m(self, options, service, keep_alive)\u001b[0m\n\u001b[1;32m     42\u001b[0m service \u001b[38;5;241m=\u001b[39m service \u001b[38;5;28;01mif\u001b[39;00m service \u001b[38;5;28;01melse\u001b[39;00m Service()\n\u001b[1;32m     43\u001b[0m options \u001b[38;5;241m=\u001b[39m options \u001b[38;5;28;01mif\u001b[39;00m options \u001b[38;5;28;01melse\u001b[39;00m Options()\n\u001b[0;32m---> 45\u001b[0m \u001b[38;5;28msuper\u001b[39m()\u001b[38;5;241m.\u001b[39m\u001b[38;5;21m__init__\u001b[39m(\n\u001b[1;32m     46\u001b[0m     browser_name\u001b[38;5;241m=\u001b[39mDesiredCapabilities\u001b[38;5;241m.\u001b[39mCHROME[\u001b[38;5;124m\"\u001b[39m\u001b[38;5;124mbrowserName\u001b[39m\u001b[38;5;124m\"\u001b[39m],\n\u001b[1;32m     47\u001b[0m     vendor_prefix\u001b[38;5;241m=\u001b[39m\u001b[38;5;124m\"\u001b[39m\u001b[38;5;124mgoog\u001b[39m\u001b[38;5;124m\"\u001b[39m,\n\u001b[1;32m     48\u001b[0m     options\u001b[38;5;241m=\u001b[39moptions,\n\u001b[1;32m     49\u001b[0m     service\u001b[38;5;241m=\u001b[39mservice,\n\u001b[1;32m     50\u001b[0m     keep_alive\u001b[38;5;241m=\u001b[39mkeep_alive,\n\u001b[1;32m     51\u001b[0m )\n",
      "File \u001b[0;32m/opt/anaconda3/lib/python3.12/site-packages/selenium/webdriver/chromium/webdriver.py:50\u001b[0m, in \u001b[0;36mChromiumDriver.__init__\u001b[0;34m(self, browser_name, vendor_prefix, options, service, keep_alive)\u001b[0m\n\u001b[1;32m     47\u001b[0m \u001b[38;5;28mself\u001b[39m\u001b[38;5;241m.\u001b[39mservice \u001b[38;5;241m=\u001b[39m service\n\u001b[1;32m     49\u001b[0m finder \u001b[38;5;241m=\u001b[39m DriverFinder(\u001b[38;5;28mself\u001b[39m\u001b[38;5;241m.\u001b[39mservice, options)\n\u001b[0;32m---> 50\u001b[0m \u001b[38;5;28;01mif\u001b[39;00m finder\u001b[38;5;241m.\u001b[39mget_browser_path():\n\u001b[1;32m     51\u001b[0m     options\u001b[38;5;241m.\u001b[39mbinary_location \u001b[38;5;241m=\u001b[39m finder\u001b[38;5;241m.\u001b[39mget_browser_path()\n\u001b[1;32m     52\u001b[0m     options\u001b[38;5;241m.\u001b[39mbrowser_version \u001b[38;5;241m=\u001b[39m \u001b[38;5;28;01mNone\u001b[39;00m\n",
      "File \u001b[0;32m/opt/anaconda3/lib/python3.12/site-packages/selenium/webdriver/common/driver_finder.py:47\u001b[0m, in \u001b[0;36mDriverFinder.get_browser_path\u001b[0;34m(self)\u001b[0m\n\u001b[1;32m     46\u001b[0m \u001b[38;5;28;01mdef\u001b[39;00m \u001b[38;5;21mget_browser_path\u001b[39m(\u001b[38;5;28mself\u001b[39m) \u001b[38;5;241m-\u001b[39m\u001b[38;5;241m>\u001b[39m \u001b[38;5;28mstr\u001b[39m:\n\u001b[0;32m---> 47\u001b[0m     \u001b[38;5;28;01mreturn\u001b[39;00m \u001b[38;5;28mself\u001b[39m\u001b[38;5;241m.\u001b[39m_binary_paths()[\u001b[38;5;124m\"\u001b[39m\u001b[38;5;124mbrowser_path\u001b[39m\u001b[38;5;124m\"\u001b[39m]\n",
      "File \u001b[0;32m/opt/anaconda3/lib/python3.12/site-packages/selenium/webdriver/common/driver_finder.py:78\u001b[0m, in \u001b[0;36mDriverFinder._binary_paths\u001b[0;34m(self)\u001b[0m\n\u001b[1;32m     76\u001b[0m \u001b[38;5;28;01mexcept\u001b[39;00m \u001b[38;5;167;01mException\u001b[39;00m \u001b[38;5;28;01mas\u001b[39;00m err:\n\u001b[1;32m     77\u001b[0m     msg \u001b[38;5;241m=\u001b[39m \u001b[38;5;124mf\u001b[39m\u001b[38;5;124m\"\u001b[39m\u001b[38;5;124mUnable to obtain driver for \u001b[39m\u001b[38;5;132;01m{\u001b[39;00mbrowser\u001b[38;5;132;01m}\u001b[39;00m\u001b[38;5;124m\"\u001b[39m\n\u001b[0;32m---> 78\u001b[0m     \u001b[38;5;28;01mraise\u001b[39;00m NoSuchDriverException(msg) \u001b[38;5;28;01mfrom\u001b[39;00m \u001b[38;5;21;01merr\u001b[39;00m\n\u001b[1;32m     79\u001b[0m \u001b[38;5;28;01mreturn\u001b[39;00m \u001b[38;5;28mself\u001b[39m\u001b[38;5;241m.\u001b[39m_paths\n",
      "\u001b[0;31mNoSuchDriverException\u001b[0m: Message: Unable to obtain driver for chrome; For documentation on this error, please visit: https://www.selenium.dev/documentation/webdriver/troubleshooting/errors/driver_location\n"
     ]
    }
   ],
   "source": [
    "link = \"https://www.makaan.com/all-localities-overview\"\n",
    "page_start = 1\n",
    "scores = []\n",
    "localityNames = []\n",
    "cityNames = []\n",
    "averageBuy = []\n",
    "averageRent = []\n",
    "buyApartment = []\n",
    "buyVilla = []\n",
    "buyBuilderfloor = []\n",
    "rentApartment = []\n",
    "rentVilla = []\n",
    "rentBuilderfloor = []\n",
    "underConstruction=[]\n",
    "completed=[]\n",
    "\n",
    "if(page_start!=1):\n",
    "    link = \"https://www.makaan.com/all-localities-overview?page=\"+str(page_start)\n",
    "cService = webdriver.ChromeService(executable_path='../../Downloads/chromedriver-win64/chromedriver-win64/chromedriver.exe')\n",
    "driver = webdriver.Chrome(service = cService)\n",
    "driver.get(link)\n",
    "\n",
    "for i in range(0,2):\n",
    "    print(i+page_start)\n",
    "    locality_list = driver.find_elements(By.CLASS_NAME, 'locality-link')\n",
    "    for li in locality_list:\n",
    "        time.sleep(10)\n",
    "        li.click()\n",
    "        ###logic for scrapping####\n",
    "        try:\n",
    "            score = driver.find_element(By.CLASS_NAME, 'score').text\n",
    "        except:\n",
    "            score=0\n",
    "        \n",
    "        scores.append(score)\n",
    "        \n",
    "        try:\n",
    "            localityName = driver.find_element(By.CLASS_NAME, 'mainname').text\n",
    "        except:\n",
    "            localityName=\"-\"\n",
    "        \n",
    "        localityNames.append(localityName)\n",
    "        \n",
    "        try:\n",
    "            cityName = driver.find_element(By.CLASS_NAME, 'subtxt').text\n",
    "        except:\n",
    "            cityName=\"-\"\n",
    "            \n",
    "        cityNames.append(cityName)\n",
    "        \n",
    "        try:\n",
    "            buyTab = driver.find_element(By.CSS_SELECTOR, '[data-target-id=\"buy-availiable-property\"]')\n",
    "            averageBuy.append(buyTab.text.split(\"\\n\")[1])\n",
    "        except:\n",
    "            averageBuy.append(0)\n",
    "        try:\n",
    "            rentTab = driver.find_element(By.CSS_SELECTOR, '[data-target-id=\"rent-availiable-property\"]')\n",
    "            averageRent.append(rentTab.text.split(\"\\n\")[1])\n",
    "        except:\n",
    "            averageRent.append(0)\n",
    "            \n",
    "        try:\n",
    "            buyApartment.append(driver.find_element(By.CSS_SELECTOR, '[data-target-id=\"buy-Apartment-pie\"]').text.split(\"(\")[1].split(\")\")[0])\n",
    "        except:\n",
    "            buyApartment.append(0)\n",
    "        try:\n",
    "            buyVilla.append(driver.find_element(By.CSS_SELECTOR, '[data-target-id=\"buy-Villa-pie\"]').text.split(\"(\")[1].split(\")\")[0])\n",
    "        except:\n",
    "            buyVilla.append(0)\n",
    "        try:\n",
    "            buyBuilderfloor.append(driver.find_element(By.CSS_SELECTOR, '[data-target-id=\"buy-BuilderFloor-pie\"]').text.split(\"(\")[1].split(\")\")[0])\n",
    "        except:\n",
    "            buyBuilderfloor.append(0)\n",
    "\n",
    "        driver.execute_script(\"arguments[0].click();\", rentTab)\n",
    "\n",
    "        try:\n",
    "            rentApartment.append(driver.find_element(By.CSS_SELECTOR, '[data-target-id=\"rent-Apartment-pie\"]').text.split(\"(\")[1].split(\")\")[0])\n",
    "        except:\n",
    "            rentApartment.append(0)\n",
    "        try:\n",
    "            rentVilla.append(driver.find_element(By.CSS_SELECTOR, '[data-target-id=\"rent-Villa-pie\"]').text.split(\"(\")[1].split(\")\")[0])\n",
    "        except:\n",
    "            rentVilla.append(0)\n",
    "        try:\n",
    "            rentBuilderfloor.append(driver.find_element(By.CSS_SELECTOR, '[data-target-id=\"rent-BuilderFloor-pie\"]').text.split(\"(\")[1].split(\")\")[0])\n",
    "        except:\n",
    "            rentBuilderfloor.append(0)\n",
    "\n",
    "        try:\n",
    "            underConstruction.append(driver.find_element(By.CSS_SELECTOR, '[data-label=\"under construction\"]').find_element(By.CSS_SELECTOR, '.front-card').text.split(\"\\n\")[0])\n",
    "        except:\n",
    "            underConstruction.append(0)\n",
    "        try:\n",
    "            completed.append(driver.find_element(By.CSS_SELECTOR, '[data-label=\"completed\"]').find_element(By.CSS_SELECTOR, '.front-card').text.split(\"\\n\")[0])\n",
    "        except:\n",
    "            completed.append(0)\n",
    "        driver.back()\n",
    "    driver.find_element(By.CSS_SELECTOR, '[aria-label=\"nextPage\"]').click()\n",
    "    "
   ]
  },
  {
   "cell_type": "code",
   "execution_count": null,
   "id": "c1b089c2",
   "metadata": {},
   "outputs": [],
   "source": [
    "\n",
    "data = pd.DataFrame()\n",
    "data['localityNames'] = localityNames\n",
    "data['cityNames'] = cityNames\n",
    "data['scores'] = scores\n",
    "data['averageBuy'] = averageBuy\n",
    "data['averageRent'] = averageRent\n",
    "data['buyApartment'] = buyApartment\n",
    "data['buyVilla'] = buyVilla\n",
    "data['buyBuilderfloor'] = buyBuilderfloor\n",
    "data['rentApartment'] = rentApartment\n",
    "data['rentVilla'] = rentVilla\n",
    "data['rentBuilderfloor'] = rentBuilderfloor\n",
    "data['underConstruction'] = underConstruction\n",
    "data['completed'] = completed\n",
    "\n",
    "data.head(10)"
   ]
  },
  {
   "cell_type": "code",
   "execution_count": null,
   "id": "58270bc8-46eb-487e-b982-128bf8ba3c4b",
   "metadata": {},
   "outputs": [],
   "source": []
  },
  {
   "cell_type": "code",
   "execution_count": null,
   "id": "0afeeafd-a686-4d34-8da5-4b9e3122b98e",
   "metadata": {},
   "outputs": [],
   "source": []
  },
  {
   "cell_type": "code",
   "execution_count": null,
   "id": "912e4e39-1b31-4476-9257-ddc5886a831a",
   "metadata": {},
   "outputs": [],
   "source": []
  },
  {
   "cell_type": "code",
   "execution_count": null,
   "id": "0dbe29cf",
   "metadata": {},
   "outputs": [],
   "source": [
    "data.to_csv(\"HouseRentInformation_1.csv\",index=False)"
   ]
  }
 ],
 "metadata": {
  "kernelspec": {
   "display_name": "Python 3 (ipykernel)",
   "language": "python",
   "name": "python3"
  },
  "language_info": {
   "codemirror_mode": {
    "name": "ipython",
    "version": 3
   },
   "file_extension": ".py",
   "mimetype": "text/x-python",
   "name": "python",
   "nbconvert_exporter": "python",
   "pygments_lexer": "ipython3",
   "version": "3.12.4"
  }
 },
 "nbformat": 4,
 "nbformat_minor": 5
}
